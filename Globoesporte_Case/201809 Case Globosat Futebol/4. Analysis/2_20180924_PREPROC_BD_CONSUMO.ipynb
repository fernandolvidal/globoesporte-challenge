{
 "cells": [
  {
   "cell_type": "code",
   "execution_count": 6,
   "metadata": {},
   "outputs": [
    {
     "name": "stdout",
     "output_type": "stream",
     "text": [
      "['abc', 'america-rn', 'atletico-mg', 'atletico-pr', 'bahia', 'botafogo', 'bragantino', 'chapecoense', 'corinthians', 'cruzeiro', 'figueirense', 'flamengo', 'fluminense', 'goias', 'gremio', 'gremio-prudente', 'icasa', 'internacional', 'luverdense', 'nautico', 'palmeiras', 'paysandu', 'ponte-preta', 'portuguesa', 'santos', 'sao-paulo', 'sport', 'vasco', 'vitoria']\n"
     ]
    }
   ],
   "source": [
    "import pandas as pd\n",
    "import numpy as np\n",
    "import matplotlib.pyplot as plt\n",
    "import seaborn as sns\n",
    "from scipy import stats\n",
    "import time\n",
    "import re\n",
    "import string\n",
    "\n",
    "\n",
    "dir_path = '../1. Original Data'\n",
    "save_path = '../2. Prepared Data'\n",
    "train_pattern = '/TRAIN_BD_'\n",
    "test_pattern = '/TEST_BD_'\n",
    "file_name = ['CONSUMO.csv','DEM_TIME.csv','/20180924_user_train.csv']\n",
    "\n",
    "times = np.unique(pd.read_csv(save_path+file_name[2]).TIME)\n",
    "times = list(times)"
   ]
  },
  {
   "cell_type": "markdown",
   "metadata": {},
   "source": [
    "##  <u>Bases de Consumo</u>:"
   ]
  },
  {
   "cell_type": "code",
   "execution_count": 2,
   "metadata": {},
   "outputs": [
    {
     "name": "stdout",
     "output_type": "stream",
     "text": [
      "       KEY   tempo                                                url\n",
      "0  1666965  1532.0  http://globoesporte.globo.com/mg/futebol/times...\n",
      "1  2428750   965.0  https://globoesporte.globo.com/futebol/times/b...\n",
      "2    23359   464.0  http://globoesporte.globo.com/pb/futebol/campe...\n",
      "3  2451676  3286.0  http://globoesporte.globo.com/sp/santos-e-regi...\n",
      "4   707389  1195.0  http://globoesporte.globo.com/futebol/times/pa...\n",
      "       KEY   tempo                                                url\n",
      "0  1666965  1532.0  http://globoesporte.globo.com/mg/futebol/times...\n",
      "1  2428750   965.0  https://globoesporte.globo.com/futebol/times/b...\n",
      "2    23359   464.0  http://globoesporte.globo.com/pb/futebol/campe...\n",
      "3  2451676  3286.0  http://globoesporte.globo.com/sp/santos-e-regi...\n",
      "4   707389  1195.0  http://globoesporte.globo.com/futebol/times/pa...\n",
      "<class 'pandas.core.frame.DataFrame'>\n",
      "RangeIndex: 14174707 entries, 0 to 14174706\n",
      "Data columns (total 3 columns):\n",
      "KEY      int64\n",
      "tempo    float64\n",
      "url      object\n",
      "dtypes: float64(1), int64(1), object(1)\n",
      "memory usage: 324.4+ MB\n",
      "None\n",
      "<class 'pandas.core.frame.DataFrame'>\n",
      "RangeIndex: 7382965 entries, 0 to 7382964\n",
      "Data columns (total 3 columns):\n",
      "KEY      int64\n",
      "tempo    float64\n",
      "url      object\n",
      "dtypes: float64(1), int64(1), object(1)\n",
      "memory usage: 169.0+ MB\n",
      "None\n"
     ]
    }
   ],
   "source": [
    "df_con_train = pd.read_csv(dir_path+train_pattern+file_name[0],low_memory=True)#,nrows=210000)\n",
    "df_con_test = pd.read_csv(dir_path+test_pattern+file_name[0],low_memory=True)#,nrows=90000)\n",
    "print(df_con_train.head())\n",
    "print(df_con_train.head())\n",
    "print(df_con_train.info())\n",
    "print(df_con_test.info())"
   ]
  },
  {
   "cell_type": "code",
   "execution_count": 7,
   "metadata": {},
   "outputs": [
    {
     "name": "stdout",
     "output_type": "stream",
     "text": [
      "       KEY   tempo        url\n",
      "1  2428750   965.0   botafogo\n",
      "3  2451676  3286.0     santos\n",
      "4   707389  1195.0  palmeiras\n",
      "7  1317005   468.0   cruzeiro\n",
      "8   926362  1856.0  palmeiras\n",
      "       KEY   tempo            url\n",
      "1   691459  1912.0    corinthians\n",
      "2    43452   464.0      sao-paulo\n",
      "3  2760594   736.0    corinthians\n",
      "6  2131163   464.0    ponte-preta\n",
      "7  3260615  1357.0  internacional\n"
     ]
    }
   ],
   "source": [
    "#FUNCAO SIMPLES DE EXTRACAO DE TIME DO URL\n",
    "def url_proc_dashed(url):\n",
    "    for time in times:\n",
    "        if 'times/'+time+'/' in str(url): \n",
    "            return time\n",
    "        \n",
    "df_con_train_proc_simple = df_con_train.copy()\n",
    "df_con_train_proc_simple.url = df_con_train.url.apply(url_proc_dashed)\n",
    "df_con_train_proc_simple.dropna(inplace=True)\n",
    "print(df_con_train_proc_simple.head(5))\n",
    "\n",
    "df_con_test_proc_simple = df_con_test.copy()\n",
    "df_con_test_proc_simple.url = df_con_test.url.apply(url_proc_dashed)\n",
    "df_con_test_proc_simple.dropna(inplace=True)\n",
    "print(df_con_test_proc_simple.head(5))"
   ]
  },
  {
   "cell_type": "code",
   "execution_count": 8,
   "metadata": {},
   "outputs": [
    {
     "name": "stdout",
     "output_type": "stream",
     "text": [
      "                          tempo\n",
      "KEY     url                    \n",
      "3414419 fluminense       1235.0\n",
      "        gremio           9809.0\n",
      "        internacional    1429.0\n",
      "        palmeiras        3259.0\n",
      "        santos           2351.0\n",
      "        vasco             776.0\n",
      "3414420 corinthians      1035.0\n",
      "        internacional    1696.0\n",
      "        sao-paulo        6087.0\n",
      "3414421 atletico-mg      9956.0\n",
      "        botafogo         1357.0\n",
      "        chapecoense      7662.0\n",
      "        corinthians      5310.0\n",
      "        cruzeiro       140507.0\n",
      "        flamengo         4956.0\n",
      "        gremio           1169.0\n",
      "        palmeiras        5326.0\n",
      "        santos          10410.0\n",
      "        sao-paulo        1442.0\n",
      "        vasco            3423.0\n",
      "3414422 corinthians       464.0\n",
      "        flamengo         8009.0\n",
      "        fluminense        736.0\n",
      "        sao-paulo         970.0\n",
      "        vasco             464.0\n",
      "                         tempo\n",
      "KEY     url                   \n",
      "3414348 sao-paulo       2904.0\n",
      "        sport            729.0\n",
      "        vasco           4118.0\n",
      "        vitoria         4571.0\n",
      "3414359 botafogo         440.0\n",
      "        chapecoense     2581.0\n",
      "        corinthians     1304.0\n",
      "        cruzeiro        8239.0\n",
      "        flamengo       40418.0\n",
      "        gremio          9842.0\n",
      "        internacional   1894.0\n",
      "        palmeiras       4571.0\n",
      "        santos          5732.0\n",
      "        sao-paulo       4828.0\n",
      "3414371 botafogo        1264.0\n",
      "        gremio          9448.0\n",
      "        internacional    970.0\n",
      "3414390 bahia            774.0\n",
      "        flamengo        2999.0\n",
      "        gremio           965.0\n",
      "        palmeiras        464.0\n",
      "        vitoria         2154.0\n",
      "3414401 flamengo        1169.0\n",
      "        palmeiras        464.0\n",
      "3414410 corinthians      773.0\n"
     ]
    },
    {
     "data": {
      "text/html": [
       "<div>\n",
       "<style scoped>\n",
       "    .dataframe tbody tr th:only-of-type {\n",
       "        vertical-align: middle;\n",
       "    }\n",
       "\n",
       "    .dataframe tbody tr th {\n",
       "        vertical-align: top;\n",
       "    }\n",
       "\n",
       "    .dataframe thead th {\n",
       "        text-align: right;\n",
       "    }\n",
       "</style>\n",
       "<table border=\"1\" class=\"dataframe\">\n",
       "  <thead>\n",
       "    <tr style=\"text-align: right;\">\n",
       "      <th></th>\n",
       "      <th></th>\n",
       "      <th>tempo</th>\n",
       "    </tr>\n",
       "    <tr>\n",
       "      <th>KEY</th>\n",
       "      <th>url</th>\n",
       "      <th></th>\n",
       "    </tr>\n",
       "  </thead>\n",
       "  <tbody>\n",
       "    <tr>\n",
       "      <th rowspan=\"11\" valign=\"top\">3412351</th>\n",
       "      <th>atletico-mg</th>\n",
       "      <td>2525.0</td>\n",
       "    </tr>\n",
       "    <tr>\n",
       "      <th>corinthians</th>\n",
       "      <td>1173.0</td>\n",
       "    </tr>\n",
       "    <tr>\n",
       "      <th>cruzeiro</th>\n",
       "      <td>8051.0</td>\n",
       "    </tr>\n",
       "    <tr>\n",
       "      <th>flamengo</th>\n",
       "      <td>1361.0</td>\n",
       "    </tr>\n",
       "    <tr>\n",
       "      <th>fluminense</th>\n",
       "      <td>3934.0</td>\n",
       "    </tr>\n",
       "    <tr>\n",
       "      <th>gremio</th>\n",
       "      <td>349.0</td>\n",
       "    </tr>\n",
       "    <tr>\n",
       "      <th>internacional</th>\n",
       "      <td>317.0</td>\n",
       "    </tr>\n",
       "    <tr>\n",
       "      <th>palmeiras</th>\n",
       "      <td>14970.0</td>\n",
       "    </tr>\n",
       "    <tr>\n",
       "      <th>sport</th>\n",
       "      <td>8319.0</td>\n",
       "    </tr>\n",
       "    <tr>\n",
       "      <th>vasco</th>\n",
       "      <td>848.0</td>\n",
       "    </tr>\n",
       "    <tr>\n",
       "      <th>vitoria</th>\n",
       "      <td>7407.0</td>\n",
       "    </tr>\n",
       "  </tbody>\n",
       "</table>\n",
       "</div>"
      ],
      "text/plain": [
       "                         tempo\n",
       "KEY     url                   \n",
       "3412351 atletico-mg     2525.0\n",
       "        corinthians     1173.0\n",
       "        cruzeiro        8051.0\n",
       "        flamengo        1361.0\n",
       "        fluminense      3934.0\n",
       "        gremio           349.0\n",
       "        internacional    317.0\n",
       "        palmeiras      14970.0\n",
       "        sport           8319.0\n",
       "        vasco            848.0\n",
       "        vitoria         7407.0"
      ]
     },
     "execution_count": 8,
     "metadata": {},
     "output_type": "execute_result"
    }
   ],
   "source": [
    "#AGRUPANDO TIMES E RESPECTIVOS TEMPOS GASTOS NA PAGINA DAQUELE TIME\n",
    "df_con_train_simple = df_con_train_proc_simple.groupby(by=('KEY','url')).sum()\n",
    "df_con_test_simple = df_con_test_proc_simple.groupby(by=('KEY','url')).sum()\n",
    "print(df_con_train_simple.tail(25))\n",
    "print(df_con_test_simple.tail(25))\n",
    "df_con_test_simple.query('KEY == 3412351')"
   ]
  },
  {
   "cell_type": "code",
   "execution_count": 9,
   "metadata": {},
   "outputs": [],
   "source": [
    "df_con_test_simple.to_csv(save_path+'/20180924_con_test_sampled_simple.csv')\n",
    "df_con_train_simple.to_csv(save_path+'/20180924_con_train_sampled_simple.csv')"
   ]
  }
 ],
 "metadata": {
  "kernelspec": {
   "display_name": "Python 3",
   "language": "python",
   "name": "python3"
  },
  "language_info": {
   "codemirror_mode": {
    "name": "ipython",
    "version": 3
   },
   "file_extension": ".py",
   "mimetype": "text/x-python",
   "name": "python",
   "nbconvert_exporter": "python",
   "pygments_lexer": "ipython3",
   "version": "3.6.4"
  }
 },
 "nbformat": 4,
 "nbformat_minor": 2
}
