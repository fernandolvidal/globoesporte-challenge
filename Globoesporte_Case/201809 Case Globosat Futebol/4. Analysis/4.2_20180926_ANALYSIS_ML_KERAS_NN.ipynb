{
 "cells": [
  {
   "cell_type": "code",
   "execution_count": 17,
   "metadata": {},
   "outputs": [],
   "source": [
    "import pandas as pd\n",
    "import numpy as np\n",
    "import matplotlib.pyplot as plt\n",
    "import seaborn as sns\n",
    "from scipy import stats\n",
    "from sklearn.preprocessing import MinMaxScaler, LabelEncoder\n",
    "from sklearn.model_selection import cross_val_score\n",
    "from sklearn.model_selection import KFold\n",
    "from sklearn.metrics import confusion_matrix, classification_report\n",
    "from keras.wrappers.scikit_learn import KerasClassifier\n",
    "from keras.models import Sequential\n",
    "from keras.utils import to_categorical, np_utils\n",
    "from keras.layers import Dense, Dropout\n",
    "import eli5\n",
    "from eli5.sklearn import PermutationImportance\n",
    "\n",
    "np.random.seed(42)\n",
    "dir_path = '../2. Prepared Data/'\n",
    "save_path = dir_path\n",
    "file_name = ['20180924_merged_train_sampled_simple.csv','20180924_merged_test_sampled_simple.csv',\\\n",
    "             '20180925_undersampled_train_plus_test']"
   ]
  },
  {
   "cell_type": "markdown",
   "metadata": {},
   "source": [
    "## <u> Keras NN</u>:"
   ]
  },
  {
   "cell_type": "code",
   "execution_count": 22,
   "metadata": {},
   "outputs": [],
   "source": [
    "#TODOS OS DADOS\n",
    "df = pd.read_csv(dir_path+file_name[0]).append(pd.read_csv(dir_path+file_name[1]))\n",
    "\n",
    "X_df = df.drop('TIME',axis=1)\n",
    "y_df = df.TIME\n",
    "\n",
    "classes = list(np.unique(y_df))\n",
    "n_classes = len(classes)\n",
    "cols = list(X_df.columns)\n",
    "n_cols = len(cols)\n",
    "\n",
    "X_data,y_data = X_df.values.astype(float), y_df.values\n",
    "\n",
    "#CODIFICANDO VETOR DE CLASSES PARA MATRIZ BINARIA \n",
    "encoder = LabelEncoder()\n",
    "encoder.fit(y_data)\n",
    "encoded_y = encoder.transform(y_data)\n",
    "dummy_y = np_utils.to_categorical(encoded_y)"
   ]
  },
  {
   "cell_type": "code",
   "execution_count": 38,
   "metadata": {},
   "outputs": [],
   "source": [
    "#CONSTRUCAO DO MODELO \n",
    "def baseline_model():\n",
    "    # create model\n",
    "    model = Sequential()\n",
    "    model.add(Dense(512, input_dim = n_cols, activation='relu'))\n",
    "    model.add(Dropout(0.2))\n",
    "    model.add(Dense(512,activation='relu'))\n",
    "    model.add(Dropout(0.2))\n",
    "    model.add(Dense(29,activation = 'softmax'))\n",
    "    # Compile model\n",
    "    model.compile(loss='categorical_crossentropy', optimizer='adam', metrics=['accuracy'])\n",
    "    return model\n",
    "\n",
    "estimator = KerasClassifier(build_fn=baseline_model, epochs=12, batch_size=32, verbose=0)\n",
    "kfold = KFold(n_splits=10, shuffle=True, random_state=42)"
   ]
  },
  {
   "cell_type": "code",
   "execution_count": 39,
   "metadata": {},
   "outputs": [
    {
     "name": "stdout",
     "output_type": "stream",
     "text": [
      "Baseline: 8.31% (7.08%)\n"
     ]
    }
   ],
   "source": [
    "#VALIACAO BASELINE\n",
    "results = cross_val_score(estimator, X_data, dummy_y, cv=kfold)\n",
    "print(\"Baseline: %.2f%% (%.2f%%)\" % (results.mean()*100, results.std()*100))"
   ]
  }
 ],
 "metadata": {
  "kernelspec": {
   "display_name": "Python 3",
   "language": "python",
   "name": "python3"
  },
  "language_info": {
   "codemirror_mode": {
    "name": "ipython",
    "version": 3
   },
   "file_extension": ".py",
   "mimetype": "text/x-python",
   "name": "python",
   "nbconvert_exporter": "python",
   "pygments_lexer": "ipython3",
   "version": "3.6.4"
  }
 },
 "nbformat": 4,
 "nbformat_minor": 2
}
