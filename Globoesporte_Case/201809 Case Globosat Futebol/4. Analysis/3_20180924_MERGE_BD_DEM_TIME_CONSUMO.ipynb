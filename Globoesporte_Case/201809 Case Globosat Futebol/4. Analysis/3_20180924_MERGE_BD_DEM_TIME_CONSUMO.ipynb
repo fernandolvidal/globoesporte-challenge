{
 "cells": [
  {
   "cell_type": "code",
   "execution_count": 9,
   "metadata": {},
   "outputs": [],
   "source": [
    "import pandas as pd\n",
    "import numpy as np\n",
    "import matplotlib.pyplot as plt\n",
    "import seaborn as sns\n",
    "from scipy import stats\n",
    "\n",
    "dir_path = '../2. Prepared Data/'\n",
    "save_path = dir_path\n",
    "file_name = ['20180924_con_train_sampled_simple.csv','20180924_con_test_sampled_simple.csv'\\\n",
    "            ,'20180924_user_train.csv', '20180924_user_test.csv']"
   ]
  },
  {
   "cell_type": "markdown",
   "metadata": {},
   "source": [
    "## <u>Uniao das Bases</u>:"
   ]
  },
  {
   "cell_type": "code",
   "execution_count": 10,
   "metadata": {},
   "outputs": [],
   "source": [
    "df_con_train = pd.read_csv(dir_path+file_name[0])\n",
    "df_con_test = pd.read_csv(dir_path+file_name[1])\n",
    "df_usr_train = pd.read_csv(dir_path+file_name[2],index_col='KEY')\n",
    "df_usr_test = pd.read_csv(dir_path+file_name[3],index_col='KEY')"
   ]
  },
  {
   "cell_type": "code",
   "execution_count": 11,
   "metadata": {},
   "outputs": [
    {
     "name": "stdout",
     "output_type": "stream",
     "text": [
      "         Unnamed: 0 SEXO             ESTADO      TIME  IDADE\n",
      "KEY                                                         \n",
      "2421280           0    M       Minas Gerais  cruzeiro   24.0\n",
      "1604566           1    M              Bahia  flamengo   28.0\n",
      "133472            2    M     Rio de Janeiro  botafogo   33.0\n",
      "1069773           3    M  Rio Grande do Sul    gremio   29.0\n",
      "2083240           4    M          Sao Paulo    santos   24.0\n",
      "         Unnamed: 0 SEXO               ESTADO      TIME  IDADE\n",
      "KEY                                                           \n",
      "2837889           0    M  Rio Grande do Norte  cruzeiro   30.0\n",
      "2066186           1    M  Rio Grande do Norte  flamengo   33.0\n",
      "1714832           2    M  Rio Grande do Norte  botafogo   31.0\n",
      "2597404           3    M  Rio Grande do Norte    gremio   36.0\n",
      "580762            4    M  Rio Grande do Norte    santos   21.0\n"
     ]
    }
   ],
   "source": [
    "print(df_usr_train.head())\n",
    "print(df_usr_test.head())"
   ]
  },
  {
   "cell_type": "code",
   "execution_count": 12,
   "metadata": {},
   "outputs": [
    {
     "name": "stdout",
     "output_type": "stream",
     "text": [
      "url  abc  america-rn  atletico-mg  atletico-pr   bahia  botafogo  bragantino  \\\n",
      "KEY                                                                            \n",
      "8    0.0         0.0          0.0          0.0     0.0       0.0         0.0   \n",
      "9    0.0         0.0          0.0          0.0     0.0       0.0         0.0   \n",
      "10   0.0         0.0          0.0          0.0     0.0       0.0         0.0   \n",
      "13   0.0         0.0       1641.0          0.0  1115.0    3268.0         0.0   \n",
      "15   0.0         0.0          0.0          0.0     0.0       0.0         0.0   \n",
      "\n",
      "url  chapecoense  corinthians  cruzeiro   ...     nautico  palmeiras  \\\n",
      "KEY                                       ...                          \n",
      "8            0.0          0.0       0.0   ...         0.0        0.0   \n",
      "9         1698.0     174016.0       0.0   ...         0.0     5387.0   \n",
      "10           0.0          0.0       0.0   ...         0.0     3139.0   \n",
      "13           0.0          0.0    4839.0   ...         0.0    47055.0   \n",
      "15           0.0          0.0     965.0   ...         0.0        0.0   \n",
      "\n",
      "url  paysandu  ponte-preta  portuguesa   santos  sao-paulo   sport   vasco  \\\n",
      "KEY                                                                          \n",
      "8         0.0          0.0         0.0      0.0        0.0     0.0   464.0   \n",
      "9         0.0          0.0         0.0  15978.0     1103.0  4047.0     0.0   \n",
      "10        0.0          0.0         0.0      0.0        0.0     0.0     0.0   \n",
      "13        0.0          0.0         0.0   5623.0     1286.0   965.0     0.0   \n",
      "15        0.0          0.0         0.0   4070.0        0.0     0.0  3259.0   \n",
      "\n",
      "url  vitoria  \n",
      "KEY           \n",
      "8        0.0  \n",
      "9        0.0  \n",
      "10       0.0  \n",
      "13       0.0  \n",
      "15       0.0  \n",
      "\n",
      "[5 rows x 29 columns]\n"
     ]
    }
   ],
   "source": [
    "#REESTRUTURANDO PARA FORMATO (CHAVE,TIME1 (...) TIME_N)\n",
    "df_con_train_pivot = df_con_train.pivot(index='KEY',columns='url',values='tempo')\n",
    "df_con_test_pivot = df_con_test.pivot(index='KEY',columns='url',values='tempo')\n",
    "df_con_train_pivot.fillna(0,inplace=True)\n",
    "df_con_test_pivot.fillna(0,inplace=True)\n",
    "print(df_con_train_pivot.head())"
   ]
  },
  {
   "cell_type": "code",
   "execution_count": 13,
   "metadata": {},
   "outputs": [],
   "source": [
    "#UNINDO INFORMACOES DA TABELA DE USUARIOS COM A DE CONSUMO\n",
    "df_merged_train = df_con_train_pivot.join(df_usr_train,how='left').drop('Unnamed: 0',axis=1)\n",
    "df_merged_test = df_con_test_pivot.join(df_usr_test,how='left').drop('Unnamed: 0',axis=1)"
   ]
  },
  {
   "cell_type": "code",
   "execution_count": 14,
   "metadata": {},
   "outputs": [
    {
     "name": "stdout",
     "output_type": "stream",
     "text": [
      "     abc  america-rn  atletico-mg  atletico-pr  bahia  botafogo  bragantino  \\\n",
      "KEY                                                                           \n",
      "6    0.0         0.0          0.0          0.0    0.0       0.0         0.0   \n",
      "46   0.0         0.0          0.0          0.0  464.0    1274.0         0.0   \n",
      "52   0.0         0.0          0.0          0.0    0.0       0.0         0.0   \n",
      "65   0.0         0.0          0.0          0.0    0.0    1357.0         0.0   \n",
      "78   0.0         0.0          0.0          0.0    0.0       0.0         0.0   \n",
      "\n",
      "     chapecoense  corinthians  cruzeiro  ...    portuguesa  santos  sao-paulo  \\\n",
      "KEY                                      ...                                    \n",
      "6            0.0          0.0       0.0  ...           0.0     0.0        0.0   \n",
      "46           0.0       1714.0    3191.0  ...           0.0  9194.0      928.0   \n",
      "52           0.0          0.0       0.0  ...           0.0     0.0        0.0   \n",
      "65           0.0          0.0       0.0  ...           0.0   965.0        0.0   \n",
      "78           0.0          0.0       0.0  ...           0.0  8271.0        0.0   \n",
      "\n",
      "     sport   vasco  vitoria  SEXO             ESTADO         TIME  IDADE  \n",
      "KEY                                                                       \n",
      "6      0.0     0.0      0.0     M     Espirito Santo  corinthians   17.0  \n",
      "46   538.0  2192.0   1169.0     M          Tocantins     flamengo   28.0  \n",
      "52     0.0     0.0      0.0     M  Rio Grande do Sul       gremio   28.0  \n",
      "65     0.0     0.0      0.0     M          Sao Paulo  atletico-mg   27.0  \n",
      "78     0.0     0.0      0.0     M          Sao Paulo  corinthians   28.0  \n",
      "\n",
      "[5 rows x 33 columns]\n"
     ]
    }
   ],
   "source": [
    "print(df_merged_test.head())"
   ]
  },
  {
   "cell_type": "code",
   "execution_count": 17,
   "metadata": {},
   "outputs": [],
   "source": [
    "#TRANSFORMANDO CATEGORIAS EM FEATURES DUMMY\n",
    "df_dummy_merged_train = pd.get_dummies(df_merged_train,columns=['ESTADO','SEXO'] )\n",
    "df_dummy_merged_test = pd.get_dummies(df_merged_test,columns=['ESTADO','SEXO'])\n",
    "assert len(df_dummy_merged_test.columns) == len(df_dummy_merged_train.columns)"
   ]
  },
  {
   "cell_type": "code",
   "execution_count": 18,
   "metadata": {},
   "outputs": [],
   "source": [
    "df_dummy_merged_train.to_csv(save_path+'/20180924_merged_train_sampled_simple.csv')\n",
    "df_dummy_merged_test.to_csv(save_path+'/20180924_merged_test_sampled_simple.csv')"
   ]
  }
 ],
 "metadata": {
  "kernelspec": {
   "display_name": "Python 3",
   "language": "python",
   "name": "python3"
  },
  "language_info": {
   "codemirror_mode": {
    "name": "ipython",
    "version": 3
   },
   "file_extension": ".py",
   "mimetype": "text/x-python",
   "name": "python",
   "nbconvert_exporter": "python",
   "pygments_lexer": "ipython3",
   "version": "3.6.4"
  }
 },
 "nbformat": 4,
 "nbformat_minor": 2
}
