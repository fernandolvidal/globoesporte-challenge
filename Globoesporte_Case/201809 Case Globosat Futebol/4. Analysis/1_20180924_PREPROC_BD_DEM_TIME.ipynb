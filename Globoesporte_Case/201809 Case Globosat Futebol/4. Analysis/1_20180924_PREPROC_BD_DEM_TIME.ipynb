{
 "cells": [
  {
   "cell_type": "code",
   "execution_count": 1,
   "metadata": {
    "scrolled": true
   },
   "outputs": [],
   "source": [
    "import pandas as pd\n",
    "import numpy as np\n",
    "import matplotlib.pyplot as plt\n",
    "import seaborn as sns\n",
    "from scipy import stats\n",
    "import time\n",
    "\n",
    "\n",
    "dir_path = '../1. Original Data'\n",
    "save_path = '../2. Prepared Data'\n",
    "train_pattern = '/TRAIN_BD_'\n",
    "test_pattern = '/TEST_BD_'\n",
    "file_name = ['CONSUMO.csv','DEM_TIME.csv']"
   ]
  },
  {
   "cell_type": "markdown",
   "metadata": {},
   "source": [
    "## <u> Bases de Usuários</u>:"
   ]
  },
  {
   "cell_type": "code",
   "execution_count": 4,
   "metadata": {
    "scrolled": false
   },
   "outputs": [
    {
     "name": "stdout",
     "output_type": "stream",
     "text": [
      "<class 'pandas.core.frame.DataFrame'>\n",
      "RangeIndex: 951464 entries, 0 to 951463\n",
      "Data columns (total 5 columns):\n",
      "KEY         951464 non-null int64\n",
      "SEXO        910294 non-null object\n",
      "DTA_NASC    914441 non-null float64\n",
      "ESTADO      951464 non-null object\n",
      "TIME        951464 non-null object\n",
      "dtypes: float64(1), int64(1), object(3)\n",
      "memory usage: 36.3+ MB\n",
      "None\n",
      "<class 'pandas.core.frame.DataFrame'>\n",
      "RangeIndex: 407773 entries, 0 to 407772\n",
      "Data columns (total 5 columns):\n",
      "KEY         407773 non-null int64\n",
      "SEXO        390241 non-null object\n",
      "DTA_NASC    391901 non-null float64\n",
      "ESTADO      407773 non-null object\n",
      "TIME        407773 non-null object\n",
      "dtypes: float64(1), int64(1), object(3)\n",
      "memory usage: 15.6+ MB\n",
      "None\n",
      "BASE TREINAMENTO -------------------------------------------------------------------\n",
      "       KEY SEXO  DTA_NASC             ESTADO      TIME\n",
      "0  2421280    M    1994.0       Minas Gerais  Cruzeiro\n",
      "1  1604566    M    1990.0              Bahia  Flamengo\n",
      "2   133472    M    1985.0     Rio de Janeiro  Botafogo\n",
      "3  1069773    M    1989.0  Rio Grande do Sul    Gremio\n",
      "4  2083240    M    1994.0          Sao Paulo    Santos\n",
      "            KEY SEXO  DTA_NASC             ESTADO         TIME\n",
      "951459  2372668    M    1994.0  Rio Grande do Sul       Gremio\n",
      "951460  1640963    M    1988.0          Sao Paulo    Sao Paulo\n",
      "951461   810316    M    1982.0          Sao Paulo  Corinthians\n",
      "951462  3113267  NaN       NaN     Rio de Janeiro     Botafogo\n",
      "951463  1413278    M    1984.0             Parana  Corinthians\n",
      "0.04327016051053956 0.03891161410205746\n",
      "BASE TESTE -------------------------------------------------------------------------\n",
      "       KEY SEXO  DTA_NASC               ESTADO TIME\n",
      "0  2837889    M    1988.0  Rio Grande do Norte  ABC\n",
      "1  2066186    M    1985.0  Rio Grande do Norte  ABC\n",
      "2  1714832    M    1987.0  Rio Grande do Norte  ABC\n",
      "3  2597404    M    1982.0  Rio Grande do Norte  ABC\n",
      "4   580762    M    1997.0  Rio Grande do Norte  ABC\n",
      "            KEY SEXO  DTA_NASC     ESTADO     TIME\n",
      "407768  1046244    M    1981.0  Sao Paulo  Vitoria\n",
      "407769  1956066    M    1917.0      Bahia  Vitoria\n",
      "407770  1730444    M    1990.0      Bahia  Vitoria\n",
      "407771   847578    M    1991.0  Sao Paulo  Vitoria\n",
      "407772  1172846    M    1997.0      Ceara  Vitoria\n",
      "0.0429945091999715 0.03892361681621881\n"
     ]
    }
   ],
   "source": [
    "#BASES USUARIO - PREPROCESSAMENTO\n",
    "df_train_usr = pd.read_csv(dir_path+train_pattern+file_name[1]);\n",
    "df_test_usr = pd.read_csv(dir_path+test_pattern+file_name[1]);\n",
    "print(df_train_usr.info())\n",
    "print(df_test_usr.info())\n",
    "\n",
    "print('BASE TREINAMENTO -------------------------------------------------------------------')\n",
    "print(df_train_usr.head())\n",
    "print(df_train_usr.tail())\n",
    "rate_missing_chave = 1 - len(df_train_usr.query('KEY == KEY'))/len(df_train_usr)\n",
    "rate_missing_sexo = 1 - len(df_train_usr.query('SEXO == SEXO'))/len(df_train_usr)\n",
    "rate_missing_nasc = 1 - len(df_train_usr.query('DTA_NASC == DTA_NASC'))/len(df_train_usr)\n",
    "rate_missing_estado = 1 - len(df_train_usr.query('ESTADO == ESTADO'))/len(df_train_usr)\n",
    "rate_missing_time = 1 - len(df_train_usr.query('TIME == TIME'))/len(df_train_usr)\n",
    "print(rate_missing_sexo,rate_missing_nasc)\n",
    "\n",
    "print('BASE TESTE -------------------------------------------------------------------------')\n",
    "print(df_test_usr.head())\n",
    "print(df_test_usr.tail())\n",
    "rate_missing_sexo = 1 - len(df_test_usr.query('SEXO == SEXO'))/len(df_test_usr)\n",
    "rate_missing_nasc = 1 - len(df_test_usr.query('DTA_NASC == DTA_NASC'))/len(df_test_usr)\n",
    "print(rate_missing_sexo,rate_missing_nasc)"
   ]
  },
  {
   "cell_type": "code",
   "execution_count": 8,
   "metadata": {},
   "outputs": [],
   "source": [
    "#TRATAMENTO DOS VALORES NULOS, PREENCHENDO COM A MÉDIA EM COLUNA OU PROPAGANDO VALOR ANTERIOR\n",
    "\n",
    "df_train_usr.DTA_NASC.fillna(np.mean(df_train_usr.DTA_NASC),inplace=True)\n",
    "df_train_usr.SEXO.fillna(method='ffill',inplace=True)\n",
    "\n",
    "assert len(df_train_usr.query('DTA_NASC != DTA_NASC')) == 0\n",
    "assert len(df_train_usr.query('SEXO != SEXO')) == 0\n",
    "\n",
    "df_test_usr.DTA_NASC.fillna(np.mean(df_test_usr.DTA_NASC),inplace=True)\n",
    "df_test_usr.SEXO.fillna(method='ffill',inplace=True)\n",
    "\n",
    "assert len(df_test_usr.query('DTA_NASC != DTA_NASC')) == 0\n",
    "assert len(df_test_usr.query('SEXO != SEXO')) == 0\n",
    "\n",
    "#VERIFICACAO DE HIPOTESES\n",
    "\n",
    "assert len(np.unique(df_train_usr.KEY)) == len(df_train_usr)\n",
    "assert len(np.unique(df_test_usr.KEY)) == len(df_test_usr)\n",
    "assert list(np.unique(df_train_usr.ESTADO)) == list(np.unique(df_test_usr.ESTADO))\n",
    "assert list(np.unique(df_train_usr.TIME)) == list(np.unique(df_test_usr.TIME))\n",
    "assert list(np.unique(df_train_usr.SEXO)) == list(np.unique(df_test_usr.SEXO))"
   ]
  },
  {
   "cell_type": "code",
   "execution_count": 9,
   "metadata": {},
   "outputs": [
    {
     "name": "stdout",
     "output_type": "stream",
     "text": [
      "       KEY SEXO  DTA_NASC        ESTADO      TIME  IDADE\n",
      "0  2421280    M    1994.0  Minas Gerais  Cruzeiro   24.0\n",
      "1  1604566    M    1990.0         Bahia  Flamengo   28.0\n",
      "       KEY SEXO  DTA_NASC               ESTADO TIME  IDADE\n",
      "0  2837889    M    1988.0  Rio Grande do Norte  ABC   30.0\n",
      "1  2066186    M    1985.0  Rio Grande do Norte  ABC   33.0\n",
      "       KEY SEXO        ESTADO      TIME  IDADE\n",
      "0  2421280    M  Minas Gerais  cruzeiro   24.0\n",
      "1  1604566    M         Bahia  flamengo   28.0\n",
      "       KEY SEXO               ESTADO      TIME  IDADE\n",
      "0  2837889    M  Rio Grande do Norte  cruzeiro   30.0\n",
      "1  2066186    M  Rio Grande do Norte  flamengo   33.0\n"
     ]
    }
   ],
   "source": [
    "#CRIACAO E ATUALIZACAO DE FEATURES\n",
    "ano = time.localtime().tm_year\n",
    "df_train_usr['IDADE'] = ano - df_train_usr.DTA_NASC\n",
    "df_test_usr['IDADE'] = ano - df_test_usr.DTA_NASC\n",
    "\n",
    "print(df_train_usr.head(2))\n",
    "print(df_test_usr.head(2))\n",
    "\n",
    "df_train_usr.drop('DTA_NASC',axis=1,inplace=True)\n",
    "df_test_usr.drop('DTA_NASC',axis=1,inplace=True)\n",
    "\n",
    "#PADRONIZACAO DOS TIMES\n",
    "\n",
    "def standardize_team(team):\n",
    "    if team.lower() == 'goiais': return 'goias'\n",
    "    return team.lower().replace(' ','-')\n",
    "\n",
    "df_train_usr.TIME = df_train_usr.TIME.apply(standardize_team)\n",
    "df_test_usr.TIME = df_train_usr.TIME.apply(standardize_team)\n",
    "\n",
    "print(df_train_usr.head(2))\n",
    "print(df_test_usr.head(2))"
   ]
  },
  {
   "cell_type": "code",
   "execution_count": 10,
   "metadata": {
    "scrolled": true
   },
   "outputs": [
    {
     "name": "stdout",
     "output_type": "stream",
     "text": [
      "<class 'pandas.core.frame.DataFrame'>\n",
      "RangeIndex: 951464 entries, 0 to 951463\n",
      "Data columns (total 5 columns):\n",
      "KEY       951464 non-null int64\n",
      "SEXO      951464 non-null object\n",
      "ESTADO    951464 non-null object\n",
      "TIME      951464 non-null object\n",
      "IDADE     951464 non-null float64\n",
      "dtypes: float64(1), int64(1), object(3)\n",
      "memory usage: 36.3+ MB\n",
      "None\n",
      "<class 'pandas.core.frame.DataFrame'>\n",
      "RangeIndex: 407773 entries, 0 to 407772\n",
      "Data columns (total 5 columns):\n",
      "KEY       407773 non-null int64\n",
      "SEXO      407773 non-null object\n",
      "ESTADO    407773 non-null object\n",
      "TIME      407773 non-null object\n",
      "IDADE     407773 non-null float64\n",
      "dtypes: float64(1), int64(1), object(3)\n",
      "memory usage: 15.6+ MB\n",
      "None\n"
     ]
    }
   ],
   "source": [
    "print(df_train_usr.info())\n",
    "print(df_test_usr.info())"
   ]
  },
  {
   "cell_type": "code",
   "execution_count": 11,
   "metadata": {},
   "outputs": [],
   "source": [
    "df_train_usr.to_csv(save_path+'/20180924_user_train.csv')\n",
    "df_test_usr.to_csv(save_path+'/20180924_user_test.csv')"
   ]
  }
 ],
 "metadata": {
  "kernelspec": {
   "display_name": "Python 3",
   "language": "python",
   "name": "python3"
  },
  "language_info": {
   "codemirror_mode": {
    "name": "ipython",
    "version": 3
   },
   "file_extension": ".py",
   "mimetype": "text/x-python",
   "name": "python",
   "nbconvert_exporter": "python",
   "pygments_lexer": "ipython3",
   "version": "3.6.4"
  }
 },
 "nbformat": 4,
 "nbformat_minor": 2
}
